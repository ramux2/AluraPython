{
 "cells": [
  {
   "cell_type": "markdown",
   "metadata": {},
   "source": [
    "# Dicionário e Sets"
   ]
  },
  {
   "cell_type": "code",
   "execution_count": 2,
   "metadata": {},
   "outputs": [],
   "source": [
    "usuarios_data_science = [15, 23, 43, 56]\n",
    "usuarios_machine_learning = [13, 23, 56, 42]"
   ]
  },
  {
   "cell_type": "code",
   "execution_count": 5,
   "metadata": {},
   "outputs": [
    {
     "data": {
      "text/plain": [
       "[15, 23, 43, 56, 13, 23, 56, 42]"
      ]
     },
     "execution_count": 5,
     "metadata": {},
     "output_type": "execute_result"
    }
   ],
   "source": [
    "assistiram_curso = usuarios_data_science.copy()\n",
    "assistiram_curso.extend(usuarios_machine_learning)\n",
    "assistiram_curso"
   ]
  },
  {
   "cell_type": "code",
   "execution_count": 6,
   "metadata": {},
   "outputs": [
    {
     "data": {
      "text/plain": [
       "{13, 15, 23, 42, 43, 56}"
      ]
     },
     "execution_count": 6,
     "metadata": {},
     "output_type": "execute_result"
    }
   ],
   "source": [
    "set(assistiram_curso)"
   ]
  },
  {
   "cell_type": "code",
   "execution_count": 8,
   "metadata": {},
   "outputs": [],
   "source": [
    "usuarios_data_science = {15, 23, 43, 56}\n",
    "usuarios_machine_learning = {13, 23, 56, 42}"
   ]
  },
  {
   "cell_type": "code",
   "execution_count": 10,
   "metadata": {},
   "outputs": [],
   "source": [
    "assistiram = usuarios_data_science | usuarios_machine_learning"
   ]
  },
  {
   "cell_type": "code",
   "execution_count": 11,
   "metadata": {},
   "outputs": [
    {
     "data": {
      "text/plain": [
       "{13, 15, 23, 42, 43, 56}"
      ]
     },
     "execution_count": 11,
     "metadata": {},
     "output_type": "execute_result"
    }
   ],
   "source": [
    "assistiram"
   ]
  },
  {
   "cell_type": "code",
   "execution_count": 12,
   "metadata": {},
   "outputs": [],
   "source": [
    "ambos = usuarios_data_science & usuarios_machine_learning"
   ]
  },
  {
   "cell_type": "code",
   "execution_count": 13,
   "metadata": {},
   "outputs": [
    {
     "data": {
      "text/plain": [
       "{23, 56}"
      ]
     },
     "execution_count": 13,
     "metadata": {},
     "output_type": "execute_result"
    }
   ],
   "source": [
    "ambos"
   ]
  },
  {
   "cell_type": "code",
   "execution_count": 14,
   "metadata": {},
   "outputs": [],
   "source": [
    "somente_1 = usuarios_data_science - usuarios_machine_learning"
   ]
  },
  {
   "cell_type": "code",
   "execution_count": 15,
   "metadata": {},
   "outputs": [
    {
     "data": {
      "text/plain": [
       "{15, 43}"
      ]
     },
     "execution_count": 15,
     "metadata": {},
     "output_type": "execute_result"
    }
   ],
   "source": [
    "somente_1"
   ]
  },
  {
   "cell_type": "code",
   "execution_count": 16,
   "metadata": {},
   "outputs": [
    {
     "data": {
      "text/plain": [
       "{13, 15, 42, 43}"
      ]
     },
     "execution_count": 16,
     "metadata": {},
     "output_type": "execute_result"
    }
   ],
   "source": [
    "# exclusivos\n",
    "\n",
    "usuarios_data_science ^ usuarios_machine_learning"
   ]
  },
  {
   "cell_type": "markdown",
   "metadata": {},
   "source": [
    "# *Mapa*"
   ]
  },
  {
   "cell_type": "code",
   "execution_count": 1,
   "metadata": {},
   "outputs": [],
   "source": [
    "aparece = {\n",
    "    \"Guilherme\" : 1,\n",
    "    \"Cachorro\" : 2,\n",
    "    \"nome\" : 2,\n",
    "    \"vindo\" : 1,\n",
    "\n",
    "}"
   ]
  },
  {
   "cell_type": "code",
   "execution_count": 2,
   "metadata": {},
   "outputs": [
    {
     "name": "stdout",
     "output_type": "stream",
     "text": [
      "('Guilherme', 1)\n",
      "('Cachorro', 2)\n",
      "('nome', 2)\n",
      "('vindo', 1)\n"
     ]
    }
   ],
   "source": [
    "for elemento in aparece.items():\n",
    "    print(elemento)"
   ]
  },
  {
   "cell_type": "code",
   "execution_count": 6,
   "metadata": {},
   "outputs": [
    {
     "data": {
      "text/plain": [
       "0"
      ]
     },
     "execution_count": 6,
     "metadata": {},
     "output_type": "execute_result"
    }
   ],
   "source": [
    "meu_texto = (\"Lorem Ipsum is simply dummy text of the printing and typesetting industry. Lorem Ipsum has been the industry's standard dummy text ever since the 1500s, when an unknown printer took a galley of type and scrambled it to make a type specimen book. It has survived not only five centuries, but also the leap into electronic typesetting, remaining essentially unchanged. It was popularised in the 1960s with the release of Letraset sheets containing Lorem Ipsum passages, and more recently with desktop publishing software like Aldus PageMaker including versions of Lorem Ipsum.\")\n",
    "\n",
    "meu_texto.lower()\n",
    "\n",
    "aparecicao = {}\n",
    "\n",
    "for palavra in meu_texto.split():\n",
    "    ate_agora = aparecicao.get(palavra, 0)\n",
    "    aparecicao[palavra] = ate_agora + 1 \n",
    "\n",
    "aparecicao.get('roberto', 0) # Limpar output"
   ]
  },
  {
   "cell_type": "code",
   "execution_count": 11,
   "metadata": {},
   "outputs": [
    {
     "data": {
      "text/plain": [
       "4"
      ]
     },
     "execution_count": 11,
     "metadata": {},
     "output_type": "execute_result"
    }
   ],
   "source": [
    "from collections import defaultdict\n",
    "\n",
    "aparicoes = defaultdict(int)\n",
    "\n",
    "meu_texto.lower()\n",
    "\n",
    "for palavra in meu_texto.split():\n",
    "    ate_agora = aparicoes.get(palavra, 0)\n",
    "    aparicoes[palavra] += 1 \n",
    "\n",
    "aparicoes['Lorem']"
   ]
  },
  {
   "cell_type": "code",
   "execution_count": null,
   "metadata": {},
   "outputs": [],
   "source": [
    "class Conta:\n",
    "    def __init__(self):\n",
    "        print(\"Imprimindo uma conta\")"
   ]
  },
  {
   "cell_type": "code",
   "execution_count": 12,
   "metadata": {},
   "outputs": [
    {
     "data": {
      "text/plain": [
       "Counter({'Lorem': 4,\n",
       "         'Ipsum': 3,\n",
       "         'is': 1,\n",
       "         'simply': 1,\n",
       "         'dummy': 2,\n",
       "         'text': 2,\n",
       "         'of': 4,\n",
       "         'the': 6,\n",
       "         'printing': 1,\n",
       "         'and': 3,\n",
       "         'typesetting': 1,\n",
       "         'industry.': 1,\n",
       "         'has': 2,\n",
       "         'been': 1,\n",
       "         \"industry's\": 1,\n",
       "         'standard': 1,\n",
       "         'ever': 1,\n",
       "         'since': 1,\n",
       "         '1500s,': 1,\n",
       "         'when': 1,\n",
       "         'an': 1,\n",
       "         'unknown': 1,\n",
       "         'printer': 1,\n",
       "         'took': 1,\n",
       "         'a': 2,\n",
       "         'galley': 1,\n",
       "         'type': 2,\n",
       "         'scrambled': 1,\n",
       "         'it': 1,\n",
       "         'to': 1,\n",
       "         'make': 1,\n",
       "         'specimen': 1,\n",
       "         'book.': 1,\n",
       "         'It': 2,\n",
       "         'survived': 1,\n",
       "         'not': 1,\n",
       "         'only': 1,\n",
       "         'five': 1,\n",
       "         'centuries,': 1,\n",
       "         'but': 1,\n",
       "         'also': 1,\n",
       "         'leap': 1,\n",
       "         'into': 1,\n",
       "         'electronic': 1,\n",
       "         'typesetting,': 1,\n",
       "         'remaining': 1,\n",
       "         'essentially': 1,\n",
       "         'unchanged.': 1,\n",
       "         'was': 1,\n",
       "         'popularised': 1,\n",
       "         'in': 1,\n",
       "         '1960s': 1,\n",
       "         'with': 2,\n",
       "         'release': 1,\n",
       "         'Letraset': 1,\n",
       "         'sheets': 1,\n",
       "         'containing': 1,\n",
       "         'passages,': 1,\n",
       "         'more': 1,\n",
       "         'recently': 1,\n",
       "         'desktop': 1,\n",
       "         'publishing': 1,\n",
       "         'software': 1,\n",
       "         'like': 1,\n",
       "         'Aldus': 1,\n",
       "         'PageMaker': 1,\n",
       "         'including': 1,\n",
       "         'versions': 1,\n",
       "         'Ipsum.': 1})"
      ]
     },
     "execution_count": 12,
     "metadata": {},
     "output_type": "execute_result"
    }
   ],
   "source": [
    "from collections import Counter\n",
    "\n",
    "aparicoes = Counter(meu_texto.split())\n",
    "aparicoes"
   ]
  },
  {
   "cell_type": "markdown",
   "metadata": {},
   "source": [
    "# Testando uso de coleções"
   ]
  },
  {
   "cell_type": "code",
   "execution_count": 14,
   "metadata": {},
   "outputs": [],
   "source": [
    "texto1 = \"\"\"\n",
    "\n",
    "    O Pandas disponibiliza estruturas de dados e ferramentas para tratar tais estruturas que forma idealizados para facilitar o processo de tratamento e análise de informações utilizando a linguagem Python, portanto um dos pré-requisitos deste curso é que você tenha familiaridade com ela.\n",
    "\n",
    "Para trabalharmos com alguns projetos, precisamos utilizar bibliotecas específicas. Com o tempo, perceberemos que o Pandas está sempre atrelado a tais bibliotecas. Um exemplo é uma biblioteca de processamento numérico como Numpy e SciPy, o Pandas pode nos ajudar fornecendo informações a elas. No caso de bibliotecas de análise como scikit-learn o Pandas também estará atuante no fornecimento de informações.\n",
    "\n",
    "\"\"\""
   ]
  },
  {
   "cell_type": "code",
   "execution_count": 16,
   "metadata": {},
   "outputs": [],
   "source": [
    "texto2 = \"\"\"\n",
    "\n",
    "    O Django é um dos frameworks de desenvolvimento web mais completos disponíveis, com quase tudo o que você precisa para colocar uma aplicação no ar. Ele gerencia tudo, desde o banco de dados até o HTML final enviado ao cliente. Porém, com o advento das single page apps, é cada vez mais comum criar aplicações que utilizam o Django somente para fornecer uma API que responde dados em formato JSON, consumidos por aplicações desenvolvidas nos mais variados frameworks Javascript. Esta arquitetura que separa o front do back-end permite um desacoplamento das duas áreas, com times que podem desenvolver em seus domínios de forma totalmente independente. Além de possibilitar que diversos apps clientes interajam com uma mesma API, garantindo ao mesmo tempo integridade de dados e regras de negócio e uma diversidade de interfaces de usuário.\n",
    "\n",
    "Dois projetos diferentes porém geram um trabalho a mais: são dois deploys separados, dois ambientes para configurar. Uma forma de simplificar este cenário é usar os recursos que o próprio Django já nos oferece para servir arquivos estáticos. Afinal, a aplicação front-end nada mais é do que um conjunto de arquivos deste tipo.\n",
    "\n",
    "O objetivo deste post é mostrar passo-a-passo como criar um setup básico para um projeto Django incluindo toda a estrutura para montar uma app em React gerenciada pelo Webpack. Vou mostrar como configurar o Django para fazer este papel de servir tanto a API quanto a aplicação do front.\n",
    "\n",
    "Para quem tem mais experiência com o ambiente do Python, entender o emaranhado das bibliotecas do front-end pode ser um grande desafio. Há várias formas possíveis de combinar os mesmos recursos para chegar num resultado parecido e as referências que encontramos por aí não costumam ser muito claras sobre o por quê de cada coisa.\n",
    "\n",
    "Na primeira parte desse post eu pretendo mostrar como fazer o setup necessário no Django para disponibilizar a aplicação do front através da estrutura que ele já tem para servir arquivos estáticos. Além disso, vamos montar um esqueleto básico de uma aplicação em React, focando no propósito de cada elemento dele. Você não vai encontrar aqui uma explicação detalhada de como funciona o React, apenas alguns conceitos sobre o framework necessários para entender a configuração do ambiente. A intenção desse post é possibilitar que alguém que tenha mais experiência no back-end consiga integrar o front com mais facilidade, sem se perder na teia das bibliotecas que compõem o ambiente de desenvolvimento. A partir daí, você pode procurar por outros tutoriais ou buscar mais informações na própria documentação da ferramenta que é bastante completa e bem compreensível.\n",
    "\n",
    "\"\"\""
   ]
  },
  {
   "cell_type": "code",
   "execution_count": 27,
   "metadata": {},
   "outputs": [],
   "source": [
    "def analisa_frequencia(texto):\n",
    "    aparicoes = Counter(texto.lower())\n",
    "    total_caracteres = sum(aparicoes.values())\n",
    "\n",
    "\n",
    "    proporcoes = [(letra, freq / total_caracteres) for letra, freq in aparicoes.items()]\n",
    "    proporcoes = Counter(dict(proporcoes))\n",
    "    mais_comum = proporcoes.most_common(10)\n",
    "    for caracter, proporcao in mais_comum:\n",
    "        print(f\"{caracter} : {proporcao*100:.2f}%\")"
   ]
  },
  {
   "cell_type": "code",
   "execution_count": 28,
   "metadata": {},
   "outputs": [
    {
     "name": "stdout",
     "output_type": "stream",
     "text": [
      "  : 14.79%\n",
      "a : 10.10%\n",
      "e : 8.82%\n",
      "o : 7.82%\n",
      "s : 6.69%\n",
      "i : 5.69%\n",
      "r : 5.55%\n",
      "t : 5.26%\n",
      "n : 4.27%\n",
      "m : 3.98%\n"
     ]
    }
   ],
   "source": [
    "analisa_frequencia(texto1)"
   ]
  }
 ],
 "metadata": {
  "kernelspec": {
   "display_name": "Python 3.11.0 64-bit",
   "language": "python",
   "name": "python3"
  },
  "language_info": {
   "codemirror_mode": {
    "name": "ipython",
    "version": 3
   },
   "file_extension": ".py",
   "mimetype": "text/x-python",
   "name": "python",
   "nbconvert_exporter": "python",
   "pygments_lexer": "ipython3",
   "version": "3.11.0"
  },
  "orig_nbformat": 4,
  "vscode": {
   "interpreter": {
    "hash": "d82c1d93bb306390d09f23da3285a8fc51ae2f3168294d711572deb5a95602ca"
   }
  }
 },
 "nbformat": 4,
 "nbformat_minor": 2
}
