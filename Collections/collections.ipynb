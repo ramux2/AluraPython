{
 "cells": [
  {
   "cell_type": "code",
   "execution_count": 13,
   "metadata": {},
   "outputs": [
    {
     "data": {
      "text/plain": [
       "[39, 30, 27, 18, 27, 19, 21]"
      ]
     },
     "execution_count": 13,
     "metadata": {},
     "output_type": "execute_result"
    }
   ],
   "source": [
    "idade = [39, 30, 27, 18]\n",
    "idade.extend([27, 19, 21])\n",
    "idade"
   ]
  },
  {
   "cell_type": "code",
   "execution_count": 14,
   "metadata": {},
   "outputs": [],
   "source": [
    "class ContaCorrente:\n",
    "    def __init__(self, codigo) -> None:\n",
    "        self.codigo = codigo\n",
    "        self.saldo = 0\n",
    "\n",
    "    def deposita(self, valor):\n",
    "        self.saldo += valor\n",
    "    \n",
    "    def __str__(self) -> str:\n",
    "        return f\"[>>Codigo {self.codigo} Saldo {self.saldo}<<]\"\n"
   ]
  },
  {
   "cell_type": "code",
   "execution_count": 15,
   "metadata": {},
   "outputs": [
    {
     "name": "stdout",
     "output_type": "stream",
     "text": [
      "[>>Codigo 277 Saldo 0<<]\n",
      "[>>Codigo 277 Saldo 500<<]\n"
     ]
    }
   ],
   "source": [
    "conta_do_gui = ContaCorrente(277)\n",
    "print(conta_do_gui)\n",
    "\n",
    "conta_do_gui.deposita(500)\n",
    "print(conta_do_gui)"
   ]
  },
  {
   "cell_type": "code",
   "execution_count": 16,
   "metadata": {},
   "outputs": [
    {
     "name": "stdout",
     "output_type": "stream",
     "text": [
      "[>>Codigo 2001 Saldo 1000<<]\n"
     ]
    }
   ],
   "source": [
    "conta_dani = ContaCorrente(2001)\n",
    "conta_dani.deposita(1000)\n",
    "print(conta_dani)"
   ]
  },
  {
   "cell_type": "code",
   "execution_count": 17,
   "metadata": {},
   "outputs": [
    {
     "name": "stdout",
     "output_type": "stream",
     "text": [
      "[<__main__.ContaCorrente object at 0x00000175CE1C3DD0>, <__main__.ContaCorrente object at 0x00000175CDB11D90>]\n"
     ]
    }
   ],
   "source": [
    "contas = [conta_do_gui, conta_dani]\n",
    "print(contas)"
   ]
  },
  {
   "cell_type": "markdown",
   "metadata": {},
   "source": [
    "# Herança e Polimorfismo"
   ]
  },
  {
   "cell_type": "code",
   "execution_count": 18,
   "metadata": {},
   "outputs": [],
   "source": [
    "from abc import ABCMeta, abstractmethod\n",
    "\n",
    "class Conta(metaclass=ABCMeta):\n",
    "    def __init__(self, codigo) -> None:\n",
    "        self._codigo = codigo\n",
    "        self._saldo = 0\n",
    "\n",
    "    def deposita(self, valor):\n",
    "        self._saldo += valor\n",
    "\n",
    "    @abstractmethod\n",
    "    def passa_o_mes(self):\n",
    "        pass\n",
    "    \n",
    "    def __str__(self) -> str:\n",
    "        return f\"[>>Codigo {self._codigo} Saldo {self._saldo}<<]\""
   ]
  },
  {
   "cell_type": "code",
   "execution_count": 19,
   "metadata": {},
   "outputs": [
    {
     "ename": "TypeError",
     "evalue": "Can't instantiate abstract class Conta with abstract method passa_o_mes",
     "output_type": "error",
     "traceback": [
      "\u001b[1;31m---------------------------------------------------------------------------\u001b[0m",
      "\u001b[1;31mTypeError\u001b[0m                                 Traceback (most recent call last)",
      "Cell \u001b[1;32mIn [19], line 1\u001b[0m\n\u001b[1;32m----> 1\u001b[0m \u001b[39mprint\u001b[39m(Conta(\u001b[39m88\u001b[39;49m))\n",
      "\u001b[1;31mTypeError\u001b[0m: Can't instantiate abstract class Conta with abstract method passa_o_mes"
     ]
    }
   ],
   "source": [
    "print(Conta(88))"
   ]
  },
  {
   "cell_type": "code",
   "execution_count": null,
   "metadata": {},
   "outputs": [],
   "source": [
    "class ContaCorrente(Conta):\n",
    "\n",
    "    def passa_o_mes(self):\n",
    "        self._saldo -= 2\n",
    "\n",
    "    \n",
    "class ContaPoupanca(Conta):\n",
    "\n",
    "    def passa_o_mes(self):\n",
    "        self._saldo *= 1.01\n",
    "        self._saldo -= 3\n",
    "\n",
    "class ContaInvestimento(Conta):\n",
    "    pass"
   ]
  },
  {
   "cell_type": "code",
   "execution_count": null,
   "metadata": {},
   "outputs": [
    {
     "ename": "TypeError",
     "evalue": "Can't instantiate abstract class ContaInvestimento with abstract method passa_o_mes",
     "output_type": "error",
     "traceback": [
      "\u001b[1;31m---------------------------------------------------------------------------\u001b[0m",
      "\u001b[1;31mTypeError\u001b[0m                                 Traceback (most recent call last)",
      "Cell \u001b[1;32mIn [25], line 1\u001b[0m\n\u001b[1;32m----> 1\u001b[0m ContaInvestimento(\u001b[39m764\u001b[39;49m)\n",
      "\u001b[1;31mTypeError\u001b[0m: Can't instantiate abstract class ContaInvestimento with abstract method passa_o_mes"
     ]
    }
   ],
   "source": [
    "ContaInvestimento(764)"
   ]
  },
  {
   "cell_type": "code",
   "execution_count": null,
   "metadata": {},
   "outputs": [
    {
     "name": "stdout",
     "output_type": "stream",
     "text": [
      "[>>Codigo 16 Saldo 998<<]\n"
     ]
    }
   ],
   "source": [
    "conta16 = ContaCorrente(16)\n",
    "conta16.deposita(1000)\n",
    "conta16.passa_o_mes()\n",
    "print(conta16)\n",
    "    "
   ]
  },
  {
   "cell_type": "code",
   "execution_count": null,
   "metadata": {},
   "outputs": [
    {
     "name": "stdout",
     "output_type": "stream",
     "text": [
      "[>>Codigo 17 Saldo 1007.0<<]\n"
     ]
    }
   ],
   "source": [
    "conta17 = ContaPoupanca(17)\n",
    "conta17.deposita(1000)\n",
    "conta17.passa_o_mes()\n",
    "print(conta17)"
   ]
  },
  {
   "cell_type": "markdown",
   "metadata": {},
   "source": [
    "# Evitar usar Array, Usar *Numpy*"
   ]
  },
  {
   "cell_type": "code",
   "execution_count": null,
   "metadata": {},
   "outputs": [
    {
     "data": {
      "text/plain": [
       "array('d', [1.0, 3.5])"
      ]
     },
     "execution_count": 15,
     "metadata": {},
     "output_type": "execute_result"
    }
   ],
   "source": [
    "import array as arr\n",
    "\n",
    "arr.array('d', [1, 3.5])"
   ]
  },
  {
   "cell_type": "code",
   "execution_count": 24,
   "metadata": {},
   "outputs": [
    {
     "name": "stdout",
     "output_type": "stream",
     "text": [
      "Requirement already satisfied: numpy in c:\\users\\guilh\\appdata\\local\\programs\\python\\python311\\lib\\site-packages (1.23.5)\n"
     ]
    },
    {
     "name": "stderr",
     "output_type": "stream",
     "text": [
      "\n",
      "[notice] A new release of pip available: 22.3 -> 22.3.1\n",
      "[notice] To update, run: python.exe -m pip install --upgrade pip\n"
     ]
    }
   ],
   "source": [
    "!pip install numpy"
   ]
  },
  {
   "cell_type": "code",
   "execution_count": null,
   "metadata": {},
   "outputs": [
    {
     "data": {
      "text/plain": [
       "array([1. , 3.5])"
      ]
     },
     "execution_count": 19,
     "metadata": {},
     "output_type": "execute_result"
    }
   ],
   "source": [
    "import numpy as np\n",
    "\n",
    "numeros = np.array([1, 3.5])\n",
    "numeros"
   ]
  },
  {
   "cell_type": "code",
   "execution_count": null,
   "metadata": {},
   "outputs": [
    {
     "data": {
      "text/plain": [
       "array([4. , 6.5])"
      ]
     },
     "execution_count": 20,
     "metadata": {},
     "output_type": "execute_result"
    }
   ],
   "source": [
    "numeros + 3"
   ]
  },
  {
   "cell_type": "code",
   "execution_count": null,
   "metadata": {},
   "outputs": [],
   "source": [
    "class ContaSalario:\n",
    "    def __init__(self, codigo):\n",
    "        self._codigo = codigo\n",
    "        self._saldo = 0\n",
    "\n",
    "    def deposita(self, valor):\n",
    "            self._saldo += valor\n",
    "\n",
    "\n",
    "    def __str__(self) -> str:\n",
    "            return f\"[>>Codigo {self._codigo} Saldo {self._saldo}<<]\""
   ]
  },
  {
   "cell_type": "code",
   "execution_count": 20,
   "metadata": {},
   "outputs": [
    {
     "name": "stdout",
     "output_type": "stream",
     "text": [
      "[>>Codigo 285 Saldo 0<<]\n"
     ]
    }
   ],
   "source": [
    "conta1 = ContaSalario(285)\n",
    "print(conta1)"
   ]
  },
  {
   "cell_type": "code",
   "execution_count": null,
   "metadata": {},
   "outputs": [
    {
     "name": "stdout",
     "output_type": "stream",
     "text": [
      "<__main__.ContaSalario object at 0x000001E27E795990>\n"
     ]
    }
   ],
   "source": []
  },
  {
   "cell_type": "code",
   "execution_count": 21,
   "metadata": {},
   "outputs": [
    {
     "ename": "NameError",
     "evalue": "name 'conta2' is not defined",
     "output_type": "error",
     "traceback": [
      "\u001b[1;31m---------------------------------------------------------------------------\u001b[0m",
      "\u001b[1;31mNameError\u001b[0m                                 Traceback (most recent call last)",
      "Cell \u001b[1;32mIn [21], line 1\u001b[0m\n\u001b[1;32m----> 1\u001b[0m conta1 \u001b[39m==\u001b[39m conta2 \u001b[39m#False pq ele procura se o endereço de memória é igual\u001b[39;00m\n",
      "\u001b[1;31mNameError\u001b[0m: name 'conta2' is not defined"
     ]
    }
   ],
   "source": [
    "conta1 == conta2 #False pq ele procura se o endereço de memória é igual"
   ]
  },
  {
   "cell_type": "code",
   "execution_count": null,
   "metadata": {},
   "outputs": [],
   "source": [
    "class ContaSalario:\n",
    "    def __init__(self, codigo):\n",
    "        self._codigo = codigo\n",
    "        self._saldo = 0\n",
    "\n",
    "    def __eq__(self, outro):\n",
    "        if type(outro) != ContaSalario:\n",
    "            return False\n",
    "        return self._codigo == outro._codigo and self._saldo == outro._saldo\n",
    "\n",
    "    def deposita(self, valor):\n",
    "            self._saldo += valor\n",
    "\n",
    "\n",
    "    def __str__(self) -> str:\n",
    "            return f\"[>>Codigo {self._codigo} Saldo {self._saldo}<<]\"\n"
   ]
  },
  {
   "cell_type": "code",
   "execution_count": 22,
   "metadata": {},
   "outputs": [
    {
     "name": "stdout",
     "output_type": "stream",
     "text": [
      "[>>Codigo 285 Saldo 0<<]\n",
      "[>>Codigo 285 Saldo 0<<]\n"
     ]
    }
   ],
   "source": [
    "conta1 = ContaSalario(285)\n",
    "print(conta1)\n",
    "conta2 = ContaSalario(285)\n",
    "print(conta2)"
   ]
  },
  {
   "cell_type": "code",
   "execution_count": 23,
   "metadata": {},
   "outputs": [
    {
     "data": {
      "text/plain": [
       "False"
      ]
     },
     "execution_count": 23,
     "metadata": {},
     "output_type": "execute_result"
    }
   ],
   "source": [
    "conta1 == conta2 #Retora True pois foi implementado o método __eq__ na classe"
   ]
  },
  {
   "cell_type": "code",
   "execution_count": null,
   "metadata": {},
   "outputs": [
    {
     "data": {
      "text/plain": [
       "True"
      ]
     },
     "execution_count": 48,
     "metadata": {},
     "output_type": "execute_result"
    }
   ],
   "source": [
    "isinstance(ContaCorrente(34), ContaCorrente)"
   ]
  },
  {
   "cell_type": "code",
   "execution_count": null,
   "metadata": {},
   "outputs": [
    {
     "data": {
      "text/plain": [
       "True"
      ]
     },
     "execution_count": 49,
     "metadata": {},
     "output_type": "execute_result"
    }
   ],
   "source": [
    "isinstance(ContaCorrente(34), Conta)"
   ]
  },
  {
   "cell_type": "code",
   "execution_count": 27,
   "metadata": {},
   "outputs": [
    {
     "name": "stdout",
     "output_type": "stream",
     "text": [
      "0 15\n",
      "1 87\n",
      "2 32\n",
      "3 65\n",
      "4 56\n",
      "5 32\n",
      "6 49\n",
      "7 37\n"
     ]
    }
   ],
   "source": [
    "idades = [15, 87, 32, 65, 56, 32, 49, 37]\n",
    "\n",
    "for i, v in enumerate(idades):\n",
    "    print(i, v)"
   ]
  },
  {
   "cell_type": "code",
   "execution_count": 30,
   "metadata": {},
   "outputs": [],
   "source": [
    "usuarios = [\n",
    "    (\"Guilherme\", 18, 2004),\n",
    "    (\"Vitor\", 19, 2003),\n",
    "    (\"Gabriel\", 22, 2000)\n",
    "]"
   ]
  },
  {
   "cell_type": "code",
   "execution_count": 31,
   "metadata": {},
   "outputs": [
    {
     "name": "stdout",
     "output_type": "stream",
     "text": [
      "18\n",
      "19\n",
      "22\n"
     ]
    }
   ],
   "source": [
    "for nome, idade, nascimento in usuarios:\n",
    "    print(idade)"
   ]
  },
  {
   "cell_type": "code",
   "execution_count": 35,
   "metadata": {},
   "outputs": [
    {
     "data": {
      "text/plain": [
       "[15, 32, 32, 37, 49, 56, 65, 87]"
      ]
     },
     "execution_count": 35,
     "metadata": {},
     "output_type": "execute_result"
    }
   ],
   "source": [
    "sorted(idades)\n"
   ]
  },
  {
   "cell_type": "code",
   "execution_count": 34,
   "metadata": {},
   "outputs": [
    {
     "data": {
      "text/plain": [
       "[37, 49, 32, 56, 65, 32, 87, 15]"
      ]
     },
     "execution_count": 34,
     "metadata": {},
     "output_type": "execute_result"
    }
   ],
   "source": [
    "list(reversed(idades))"
   ]
  },
  {
   "cell_type": "code",
   "execution_count": 36,
   "metadata": {},
   "outputs": [
    {
     "data": {
      "text/plain": [
       "[87, 65, 56, 49, 37, 32, 32, 15]"
      ]
     },
     "execution_count": 36,
     "metadata": {},
     "output_type": "execute_result"
    }
   ],
   "source": [
    "sorted(idades, reverse=True)"
   ]
  },
  {
   "cell_type": "code",
   "execution_count": null,
   "metadata": {},
   "outputs": [],
   "source": [
    "class ContaSalario:\n",
    "    def __init__(self, codigo):\n",
    "        self._codigo = codigo\n",
    "        self._saldo = 0\n",
    "\n",
    "    def __eq__(self, outro):\n",
    "        if type(outro) != ContaSalario:\n",
    "            return False\n",
    "        return self._codigo == outro._codigo and self._saldo == outro._saldo\n",
    "\n",
    "    def deposita(self, valor):\n",
    "            self._saldo += valor\n",
    "\n",
    "\n",
    "    def __str__(self) -> str:\n",
    "            return f\"[>>Codigo {self._codigo} Saldo {self._saldo}<<]\""
   ]
  },
  {
   "cell_type": "code",
   "execution_count": 64,
   "metadata": {},
   "outputs": [],
   "source": [
    "conta_guilherme = ContaSalario(17)\n",
    "conta_guilherme.deposita(500)\n",
    "\n",
    "conta_daniela = ContaSalario(3)\n",
    "conta_daniela.deposita(700)\n",
    "\n",
    "conta_paulo = ContaSalario(135)\n",
    "conta_paulo.deposita(1700)"
   ]
  },
  {
   "cell_type": "code",
   "execution_count": 65,
   "metadata": {},
   "outputs": [],
   "source": [
    "contas = [conta_guilherme, conta_daniela, conta_paulo]"
   ]
  },
  {
   "cell_type": "code",
   "execution_count": 66,
   "metadata": {},
   "outputs": [
    {
     "name": "stdout",
     "output_type": "stream",
     "text": [
      "[>>Codigo 17 Saldo 500<<]\n",
      "[>>Codigo 3 Saldo 700<<]\n",
      "[>>Codigo 135 Saldo 1700<<]\n"
     ]
    }
   ],
   "source": [
    "for conta in contas:\n",
    "    print(conta)"
   ]
  },
  {
   "cell_type": "code",
   "execution_count": 67,
   "metadata": {},
   "outputs": [
    {
     "name": "stdout",
     "output_type": "stream",
     "text": [
      "[>>Codigo 17 Saldo 500<<]\n",
      "[>>Codigo 3 Saldo 700<<]\n",
      "[>>Codigo 135 Saldo 1700<<]\n"
     ]
    }
   ],
   "source": [
    "def extrato_saldo(conta):\n",
    "    return conta._saldo\n",
    "\n",
    "for conta in sorted(contas, key=extrato_saldo):\n",
    "    print(conta)"
   ]
  },
  {
   "cell_type": "code",
   "execution_count": 68,
   "metadata": {},
   "outputs": [
    {
     "name": "stdout",
     "output_type": "stream",
     "text": [
      "[>>Codigo 3 Saldo 700<<]\n",
      "[>>Codigo 17 Saldo 500<<]\n",
      "[>>Codigo 135 Saldo 1700<<]\n"
     ]
    }
   ],
   "source": [
    "from operator import attrgetter\n",
    "\n",
    "for conta in sorted(contas, key=attrgetter(\"_codigo\")):\n",
    "    print(conta)"
   ]
  },
  {
   "cell_type": "code",
   "execution_count": 69,
   "metadata": {},
   "outputs": [],
   "source": [
    "class ContaSalario:\n",
    "    def __init__(self, codigo):\n",
    "        self._codigo = codigo\n",
    "        self._saldo = 0\n",
    "\n",
    "    def __eq__(self, outro):\n",
    "        if type(outro) != ContaSalario:\n",
    "            return False\n",
    "        return self._codigo == outro._codigo and self._saldo == outro._saldo\n",
    "\n",
    "    def __lt__(self, outro):\n",
    "        return self._saldo < outro._saldo\n",
    "\n",
    "    def deposita(self, valor):\n",
    "            self._saldo += valor\n",
    "\n",
    "    def __str__(self) -> str:\n",
    "            return f\"[>>Codigo {self._codigo} Saldo {self._saldo}<<]\""
   ]
  },
  {
   "cell_type": "code",
   "execution_count": 70,
   "metadata": {},
   "outputs": [
    {
     "data": {
      "text/plain": [
       "True"
      ]
     },
     "execution_count": 70,
     "metadata": {},
     "output_type": "execute_result"
    }
   ],
   "source": [
    "conta_guilherme < conta_daniela"
   ]
  },
  {
   "cell_type": "code",
   "execution_count": 71,
   "metadata": {},
   "outputs": [
    {
     "name": "stdout",
     "output_type": "stream",
     "text": [
      "[>>Codigo 17 Saldo 500<<]\n",
      "[>>Codigo 3 Saldo 700<<]\n",
      "[>>Codigo 135 Saldo 1700<<]\n"
     ]
    }
   ],
   "source": [
    "for conta in sorted(contas):\n",
    "    print(conta)"
   ]
  }
 ],
 "metadata": {
  "kernelspec": {
   "display_name": "Python 3.11.0 64-bit",
   "language": "python",
   "name": "python3"
  },
  "language_info": {
   "codemirror_mode": {
    "name": "ipython",
    "version": 3
   },
   "file_extension": ".py",
   "mimetype": "text/x-python",
   "name": "python",
   "nbconvert_exporter": "python",
   "pygments_lexer": "ipython3",
   "version": "3.11.0"
  },
  "orig_nbformat": 4,
  "vscode": {
   "interpreter": {
    "hash": "d82c1d93bb306390d09f23da3285a8fc51ae2f3168294d711572deb5a95602ca"
   }
  }
 },
 "nbformat": 4,
 "nbformat_minor": 2
}
